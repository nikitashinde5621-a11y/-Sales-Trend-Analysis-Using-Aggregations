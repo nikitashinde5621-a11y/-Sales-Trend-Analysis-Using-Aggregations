{
 "cells": [
  {
   "cell_type": "markdown",
   "id": "1b5b37a9",
   "metadata": {},
   "source": [
    "# Task 5: Exploratory Data Analysis (Titanic)\n",
    "EDA with correlations and visualizations."
   ]
  },
  {
   "cell_type": "code",
   "execution_count": null,
   "id": "fc5df076",
   "metadata": {},
   "outputs": [],
   "source": [
    "\n",
    "import pandas as pd\n",
    "import seaborn as sns\n",
    "import matplotlib.pyplot as plt\n",
    "\n",
    "df = pd.read_csv(\"titanic_sample.csv\")\n",
    "\n",
    "# Info and head\n",
    "print(df.info())\n",
    "print(df.head())\n",
    "\n",
    "# Correlation heatmap\n",
    "corr = df.corr(numeric_only=True)\n",
    "sns.heatmap(corr, annot=True, cmap=\"coolwarm\")\n",
    "plt.title(\"Correlation Heatmap\")\n",
    "plt.show()\n",
    "\n",
    "# Pairplot\n",
    "sns.pairplot(df[[\"Age\", \"Fare\", \"Pclass\", \"Survived\"]].dropna(), hue=\"Survived\")\n",
    "plt.show()\n"
   ]
  }
 ],
 "metadata": {},
 "nbformat": 4,
 "nbformat_minor": 5
}