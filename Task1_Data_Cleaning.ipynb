{
 "cells": [
  {
   "cell_type": "markdown",
   "id": "71f50bd2",
   "metadata": {},
   "source": [
    "# Task 1: Data Cleaning\n",
    "This notebook demonstrates basic data cleaning using Pandas."
   ]
  },
  {
   "cell_type": "code",
   "execution_count": null,
   "id": "faf89d3b",
   "metadata": {},
   "outputs": [],
   "source": [
    "\n",
    "import pandas as pd\n",
    "\n",
    "# Load sample Titanic dataset\n",
    "df = pd.read_csv(\"titanic_sample.csv\")\n",
    "print(\"Before cleaning:\")\n",
    "print(df.head())\n",
    "\n",
    "# Handle missing values\n",
    "df['Age'].fillna(df['Age'].mean(), inplace=True)\n",
    "df['Cabin'].fillna(\"Unknown\", inplace=True)\n",
    "\n",
    "# Drop duplicates if any\n",
    "df.drop_duplicates(inplace=True)\n",
    "\n",
    "print(\"\\nAfter cleaning:\")\n",
    "print(df.head())\n"
   ]
  }
 ],
 "metadata": {},
 "nbformat": 4,
 "nbformat_minor": 5
}