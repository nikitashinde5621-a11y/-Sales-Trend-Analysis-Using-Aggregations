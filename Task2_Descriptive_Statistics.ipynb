{
 "cells": [
  {
   "cell_type": "markdown",
   "id": "6067ddb7",
   "metadata": {},
   "source": [
    "# Task 2: Descriptive Statistics\n",
    "Basic statistical analysis of Titanic dataset."
   ]
  },
  {
   "cell_type": "code",
   "execution_count": null,
   "id": "077f63ce",
   "metadata": {},
   "outputs": [],
   "source": [
    "\n",
    "import pandas as pd\n",
    "\n",
    "df = pd.read_csv(\"titanic_sample.csv\")\n",
    "\n",
    "# Descriptive statistics\n",
    "print(df.describe(include=\"all\"))\n",
    "\n",
    "# Value counts\n",
    "print(\"\\nGender distribution:\")\n",
    "print(df['Sex'].value_counts())\n"
   ]
  }
 ],
 "metadata": {},
 "nbformat": 4,
 "nbformat_minor": 5
}