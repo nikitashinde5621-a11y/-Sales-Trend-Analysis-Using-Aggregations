{
 "cells": [
  {
   "cell_type": "markdown",
   "id": "42559792",
   "metadata": {},
   "source": [
    "# Task 3: Data Visualization\n",
    "Visualizations using Matplotlib and Seaborn."
   ]
  },
  {
   "cell_type": "code",
   "execution_count": null,
   "id": "ac25f85b",
   "metadata": {},
   "outputs": [],
   "source": [
    "\n",
    "import pandas as pd\n",
    "import matplotlib.pyplot as plt\n",
    "import seaborn as sns\n",
    "\n",
    "df = pd.read_csv(\"titanic_sample.csv\")\n",
    "\n",
    "# Histogram of Age\n",
    "plt.hist(df['Age'].dropna(), bins=10, edgecolor='black')\n",
    "plt.title(\"Age Distribution\")\n",
    "plt.xlabel(\"Age\")\n",
    "plt.ylabel(\"Count\")\n",
    "plt.show()\n",
    "\n",
    "# Countplot for Gender vs Survival\n",
    "sns.countplot(x=\"Sex\", hue=\"Survived\", data=df)\n",
    "plt.title(\"Survival by Gender\")\n",
    "plt.show()\n"
   ]
  }
 ],
 "metadata": {},
 "nbformat": 4,
 "nbformat_minor": 5
}